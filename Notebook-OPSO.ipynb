{
    "metadata": {
        "kernelspec": {
            "name": "SQL",
            "display_name": "SQL",
            "language": "sql"
        },
        "language_info": {
            "name": "sql",
            "version": ""
        }
    },
    "nbformat_minor": 2,
    "nbformat": 4,
    "cells": [
        {
            "cell_type": "markdown",
            "source": [
                "# Consultas para actividad en _OPSO_\r\n",
                "ffCuando se genera una actividad de la herramienta _OPSO_ se generan registros en las siguientes tablas:\r\n",
                "\r\n",
                "|Tabla|Descripcion|\r\n",
                "|----|--|\r\n",
                "|T_SOLICITUD_ACTIVIDAD |Guarda la información general de la actividad (caratula).|\r\n",
                "|T_CLIENTE_ACTIVIDAD|Guarda la jerarquía de clientes a la cual se le acplicara la actividad promocional así como el tipo de actividad (SI/SO) y sus valores de prorrateo.|\r\n",
                "|T_PRORRATEO_PRODUCTO|Guarda la jerarquía de productos a la cual se le aplicara la activdad promocional así como sus valores de prorrateo. Se genera una jerarquía de productos por cada cliente.|\r\n",
                "|T_MES_VIGENCIA|Guarda el los meses en que se va a ejecutar la actividad promocional y el porcentaje de aplicación para cada mes. Se generan por cada cliente.|\r\n",
                "T_RANGO_VIGENCIA|Guarda los rangos de vigencias por mes para tener los días exactos de ejecución de la actividad promocional.|\r\n",
                "|T_SOLICITUD_PL|Guarda los valores de p&l de la actividad por cada cliente one4all/marca diferente en la actividad en 5 diferentes niveles.\r\n",
                "\r\n",
                "Para saber que la actividad se ha creado correctamente, se pueden realziar las siguientes consultas indiciando el id de la actividad que se generó.\r\n",
                ""
            ],
            "metadata": {
                "azdata_cell_guid": "5deb5bc2-b794-46ba-8792-6fa369fc284e",
                "language": "markdown"
            }
        },
        {
            "cell_type": "markdown",
            "source": [
                ">Primero se busca el registro dentro de la tabla **T_SOLICITUD_ACTIVIDAD** para verificar que los datos de la caratula sean correctos"
            ],
            "metadata": {
                "azdata_cell_guid": "36b3d929-f6a4-4805-a2cd-9c420544cf0a"
            }
        },
        {
            "cell_type": "code",
            "source": [
                "DECLARE @ID_ACTIVIDAD INT = 2000 --Id de la solicitud de la actividad que se quiere revisar\r\n",
                "SELECT * FROM T_SOLICITUD_ACTIVIDAD\r\n",
                "WHERE ID_SOLICITUD_ACTIVIDAD = @ID_ACTIVIDAD"
            ],
            "metadata": {
                "azdata_cell_guid": "72aa2828-e3a2-4160-919c-7cafe2bd7b41",
                "tags": []
            },
            "outputs": [],
            "execution_count": null
        },
        {
            "cell_type": "markdown",
            "source": [
                ">Después verificamos que la jerarquía de clientes se haya insertado correctamente en la tabla **T_CLIENTE_ACTIVIDAD** con los valores de porrrateo que ingresamos en _OPSO_"
            ],
            "metadata": {
                "azdata_cell_guid": "76f908b4-7bdd-4294-a7d5-6b7ecf458548"
            }
        },
        {
            "cell_type": "code",
            "source": [
                "DECLARE @ID_ACTIVIDAD INT = 2000 --Id de la solicitud de la actividad que se quiere revisar\r\n",
                "SELECT * FROM T_CLIENTE_ACTIVIDAD\r\n",
                "WHERE ID_SOLICITUD_ACTIVIDAD = @ID_ACTIVIDAD"
            ],
            "metadata": {
                "azdata_cell_guid": "ed1a52f3-98d0-4698-841a-6bdf21e863d7",
                "tags": []
            },
            "outputs": [],
            "execution_count": null
        },
        {
            "cell_type": "markdown",
            "source": [
                ">Con los id's de los clientes de la actividad que tengan _true_ en el campo ISPAP (siempre a nivel grupo de cliente a menos que la actividad se haya creado a Formato de tienda), buscamos los meses de ejecución de la actividad en **T_MES_VIGENCIA**"
            ],
            "metadata": {
                "azdata_cell_guid": "23ceabbe-e030-4102-8b50-2dd5515c60d8"
            }
        },
        {
            "cell_type": "code",
            "source": [
                "DECLARE @ID_ACTIVIDAD INT = 2000 --Id de la solicitud de la actividad que se quiere revisar\r\n",
                "SELECT * FROM T_MES_VIGENCIA\r\n",
                "WHERE ID_CLIENTE_ACTIVIDAD IN (SELECT ID_CLIENTE_ACTIVIDAD \r\n",
                "                                FROM T_CLIENTE_ACTIVIDAD\r\n",
                "                                WHERE ISPAP = 1\r\n",
                "                                AND ID_SOLICITUD_ACTIVIDAD = @ID_ACTIVIDAD)"
            ],
            "metadata": {
                "azdata_cell_guid": "089a9e30-b3a8-4122-860c-a46b3d9c3664"
            },
            "outputs": [],
            "execution_count": null
        },
        {
            "cell_type": "markdown",
            "source": [
                ">Una vez que verificamos los meses, buscamos los rangos de vigencias de la actividad en **T_RANGO_VIGENCIA**"
            ],
            "metadata": {
                "azdata_cell_guid": "5708861f-30b9-42e2-a2b4-31cc5ecb0f74"
            }
        },
        {
            "cell_type": "code",
            "source": [
                "DECLARE @ID_ACTIVIDAD INT = 2000 --Id de la solicitud de la actividad que se quiere revisar\r\n",
                "SELECT * FROM T_RANGO_VIGENCIA\r\n",
                "WHERE ID_MES_VIGENCIA IN (SELECT ID_MES_VIGENCIA FROM T_MES_VIGENCIA\r\n",
                "                            WHERE ID_CLIENTE_ACTIVIDAD IN (SELECT ID_CLIENTE_ACTIVIDAD \r\n",
                "                                                            FROM T_CLIENTE_ACTIVIDAD\r\n",
                "                                                            WHERE ISPAP = 1\r\n",
                "                                                            AND ID_SOLICITUD_ACTIVIDAD = @ID_ACTIVIDAD))"
            ],
            "metadata": {
                "azdata_cell_guid": "6c2c4d15-94ad-4d19-a2d6-5f21b7a0d413",
                "tags": []
            },
            "outputs": [],
            "execution_count": null
        },
        {
            "cell_type": "markdown",
            "source": [
                ">Para verificar los productos debemos buscar en la tabla **T_PRORRATEO_PRODUCTO** por cada cliente de la actividad"
            ],
            "metadata": {
                "azdata_cell_guid": "dea2a8c3-5c2e-4ae4-8adb-67fa129129ce"
            }
        },
        {
            "cell_type": "code",
            "source": [
                "DECLARE @ID_ACTIVIDAD INT = 2000 --Id de la solicitud de la actividad que se quiere revisar\r\n",
                "SELECT * FROM T_PRORRATEO_PRODUCTO\r\n",
                "WHERE ID_CLIENTE_ACTIVIDAD IN (SELECT ID_CLIENTE_ACTIVIDAD \r\n",
                "                                FROM T_CLIENTE_ACTIVIDAD\r\n",
                "                                WHERE ISPAP = 1\r\n",
                "                                AND ID_SOLICITUD_ACTIVIDAD = @ID_ACTIVIDAD)"
            ],
            "metadata": {
                "azdata_cell_guid": "64a40424-82ad-4b38-bdc2-eb914740e4fd"
            },
            "outputs": [],
            "execution_count": null
        },
        {
            "cell_type": "markdown",
            "source": [
                ">Por último, verificamos que el p&l se haya guardado correctamente en la tabla **T_SOLICITUD_PL**, recordando que el p&l se genera a nivel one4all/marca."
            ],
            "metadata": {
                "azdata_cell_guid": "0be5000c-cf4f-4574-b87e-47888f4a4f3a"
            }
        },
        {
            "cell_type": "code",
            "source": [
                "DECLARE @ID_ACTIVIDAD INT = 2000 --Id de la solicitud de la actividad que se quiere revisar\r\n",
                "SELECT * FROM T_SOLICITUD_PL\r\n",
                "WHERE ID_SOLICITUD_ACTIVIDAD = @ID_ACTIVIDAD"
            ],
            "metadata": {
                "azdata_cell_guid": "7c00838b-2ee7-4266-95c3-ef82f9cf231b",
                "tags": []
            },
            "outputs": [],
            "execution_count": null
        }
    ]
}